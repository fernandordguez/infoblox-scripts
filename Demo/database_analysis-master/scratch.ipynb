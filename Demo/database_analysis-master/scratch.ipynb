{
 "cells": [
  {
   "cell_type": "code",
   "execution_count": 4,
   "id": "institutional-utilization",
   "metadata": {},
   "outputs": [
    {
     "output_type": "stream",
     "name": "stdout",
     "text": [
      "defaultdict(None, {'.com.infoblox.dns.member_dns_properties':   allow_gss_tsig_zone_updates dns_health_check_enabled enable_dns64  \\\n0                       false                    false        false   \n1                       false                    false        false   \n\n  enable_gss_tsig log_queries virtual_node  \n0           false       false            2  \n1           false       false            3  })\ndefaultdict(None, {'.com.infoblox.dns.member_dns_properties':   allow_gss_tsig_zone_updates dns_health_check_enabled enable_dns64  \\\n0                       false                    false        false   \n1                       false                    false        false   \n\n  enable_gss_tsig log_queries virtual_node  \n0           false       false            2  \n1           false       false            3  , '.com.infoblox.dns.cluster_dns_properties':   allow_gss_tsig_zone_updates blacklist_enabled dns_health_check_enabled  \\\n0                       false             false                    false   \n\n  enable_dns64 enable_gss_tsig  \n0        false           false  })\nallow_gss_tsig_zone_updates  dns_health_check_enabled  enable_dns64  enable_gss_tsig  log_queries  virtual_node\nfalse                        false                     false         false            false        2               1\n                                                                                                   3               1\ndtype: int64\nallow_gss_tsig_zone_updates  blacklist_enabled  dns_health_check_enabled  enable_dns64  enable_gss_tsig\nfalse                        false              false                     false         false              1\ndtype: int64\n"
     ]
    }
   ],
   "source": [
    "import pandas as pd\n",
    "import collections\n",
    "\n",
    "\n",
    "report = {'report':{'.com.infoblox.dns.zone': [['_default',\n",
    "                                                       'View',\n",
    "                                                       72473],\n",
    "                                                      ['srg_root',\n",
    "                                                       'SharedRecordGroup',\n",
    "                                                       72474],\n",
    "                                                      ['rpz_root',\n",
    "                                                       'ResponsePolicy',\n",
    "                                                       72475]]}}\n",
    "\n",
    "report['report'] = collections.defaultdict()\n",
    "report['report']['.com.infoblox.dns.member_dns_properties'] = collections.defaultdict()\n",
    "report['report']['.com.infoblox.dns.cluster_dns_properties'] = collections.defaultdict()\n",
    "report['report']['.com.infoblox.dns.cluster_dns_properties'] =  [{'allow_gss_tsig_zone_updates': 'false',\n",
    "                                                                                   'blacklist_enabled': 'false',\n",
    "                                                                                   'dns_health_check_enabled': 'false',\n",
    "                                                                                   'enable_dns64': 'false',\n",
    "                                                                                   'enable_gss_tsig': 'false'}]\n",
    "report['report']['.com.infoblox.dns.member_dns_properties'] =  [{'allow_gss_tsig_zone_updates': 'false',\n",
    "                                                                                  'dns_health_check_enabled': 'false',\n",
    "                                                                                  'enable_dns64': 'false',\n",
    "                                                                                  'enable_gss_tsig': 'false',\n",
    "                                                                                  'log_queries': 'false',\n",
    "                                                                                  'virtual_node': '2'},\n",
    "                                                                                 {'allow_gss_tsig_zone_updates': 'false',\n",
    "                                                                                  'dns_health_check_enabled': 'false',\n",
    "                                                                                  'enable_dns64': 'false',\n",
    "                                                                                  'enable_gss_tsig': 'false',\n",
    "                                                                                  'log_queries': 'false',\n",
    "                                                                                  'virtual_node': '3'}]\n",
    "\n",
    "dfs = collections.defaultdict()\n",
    "for k in report['report'].keys():\n",
    "    dfs[k] = pd.DataFrame(report['report'][k])\n",
    "    print(dfs)\n",
    "\n",
    "for k in dfs.keys():\n",
    "    print(dfs[k].value_counts())\n",
    "    "
   ]
  },
  {
   "cell_type": "code",
   "execution_count": 5,
   "id": "emerging-possibility",
   "metadata": {},
   "outputs": [
    {
     "output_type": "stream",
     "name": "stdout",
     "text": [
      "      state  options net\n0   invalid       43   A\n1   invalid       43   B\n2  validate       43   C\n3   invalid      121   D\n"
     ]
    },
    {
     "output_type": "execute_result",
     "data": {
      "text/plain": [
       "state     options\n",
       "invalid   43         2\n",
       "          121        1\n",
       "validate  43         1\n",
       "dtype: int64"
      ]
     },
     "metadata": {},
     "execution_count": 5
    }
   ],
   "source": [
    "r = [['invalid',43, 'A'], ['invalid', 43, 'B'],['validate',43,'C'],['invalid',121,'D']]\n",
    "df = pd.DataFrame(r, columns=['state', 'options', 'net'])\n",
    "print(df)\n",
    "\n",
    "df.value_counts(['state','options'])"
   ]
  },
  {
   "cell_type": "code",
   "execution_count": null,
   "id": "vital-picnic",
   "metadata": {},
   "outputs": [],
   "source": []
  }
 ],
 "metadata": {
  "kernelspec": {
   "name": "python392jvsc74a57bd07812ea015bdcee6f23a998adcdd2ef97c151c0c241b7b7070987d9313e41299d",
   "display_name": "Python 3.9.2 64-bit"
  },
  "language_info": {
   "codemirror_mode": {
    "name": "ipython",
    "version": 3
   },
   "file_extension": ".py",
   "mimetype": "text/x-python",
   "name": "python",
   "nbconvert_exporter": "python",
   "pygments_lexer": "ipython3",
   "version": "3.9.2"
  },
  "metadata": {
   "interpreter": {
    "hash": "7812ea015bdcee6f23a998adcdd2ef97c151c0c241b7b7070987d9313e41299d"
   }
  }
 },
 "nbformat": 4,
 "nbformat_minor": 5
}